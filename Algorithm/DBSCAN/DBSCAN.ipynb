{
  "cells": [
    {
      "cell_type": "code",
      "execution_count": 1,
      "metadata": {
        "id": "duGCdm0GrxaM"
      },
      "outputs": [],
      "source": [
        "import numpy as np\n",
        "import pandas as pd\n",
        "import matplotlib.pyplot as plt\n",
        "from sklearn.model_selection import train_test_split\n",
        "from sklearn.cluster import DBSCAN\n",
        "from sklearn.preprocessing import MinMaxScaler"
      ]
    },
    {
      "cell_type": "code",
      "execution_count": 2,
      "metadata": {},
      "outputs": [],
      "source": [
        "%matplotlib qt"
      ]
    },
    {
      "cell_type": "code",
      "execution_count": 3,
      "metadata": {
        "id": "lspY-PyysWVT"
      },
      "outputs": [],
      "source": [
        "df = pd.read_csv(r\"https://raw.githubusercontent.com/rizwankareem006/youtube_trending/main/Youtube%20Trending%20Dataset/US_youtube_trending_data.csv\")\n",
        "df.drop(labels=['video_id', 'title', 'channelId', 'channelTitle', 'comments_disabled', 'ratings_disabled'], axis=1, inplace=True)\n",
        "df['trending_date'] = pd.to_datetime(df['trending_date'])\n",
        "df['publishedAt'] = pd.to_datetime(df['publishedAt'])\n",
        "lower_limit = pd.to_datetime('2020-09-01T00:00:00Z')\n",
        "upper_limit = pd.to_datetime('2021-09-01T00:00:00Z')\n",
        "df = df[(df['trending_date'] <= upper_limit) & (df['trending_date'] >= lower_limit)]"
      ]
    },
    {
      "cell_type": "code",
      "execution_count": 4,
      "metadata": {
        "id": "ML--DQeAsYX0"
      },
      "outputs": [],
      "source": [
        "zero_valued_indices = df[(df[\"view_count\"] == 0) | (df[\"likes\"] == 0) | (df[\"dislikes\"] == 0) | (df[\"comment_count\"] == 0)].index\n",
        "df.drop(index = zero_valued_indices, inplace=True)"
      ]
    },
    {
      "cell_type": "code",
      "execution_count": 5,
      "metadata": {
        "id": "LT5SHV4Es5TS"
      },
      "outputs": [],
      "source": [
        "scaler = MinMaxScaler()\n",
        "scaler.fit(df.iloc[:, 3:7])\n",
        "df.iloc[:, 3:7] = scaler.transform(df.iloc[:, 3:7])"
      ]
    },
    {
      "cell_type": "code",
      "execution_count": 6,
      "metadata": {
        "id": "9iiBHqrltX9u"
      },
      "outputs": [],
      "source": [
        "from sklearn.neighbors import NearestNeighbors"
      ]
    },
    {
      "cell_type": "code",
      "execution_count": 7,
      "metadata": {
        "colab": {
          "base_uri": "https://localhost:8080/",
          "height": 282
        },
        "id": "2kQu197tufKs",
        "outputId": "7a8c2f21-aaa7-4b9d-8b40-36bced3777a1"
      },
      "outputs": [
        {
          "data": {
            "text/plain": [
              "[<matplotlib.lines.Line2D at 0x2aa646aa3a0>]"
            ]
          },
          "execution_count": 7,
          "metadata": {},
          "output_type": "execute_result"
        }
      ],
      "source": [
        "neigh = NearestNeighbors(n_neighbors=2)\n",
        "nbrs = neigh.fit(df.iloc[:, 3:7])\n",
        "distances, indices = nbrs.kneighbors(df.iloc[:, 3:7])\n",
        "distances = np.sort(distances, axis=0)\n",
        "distances = distances[:,1]\n",
        "plt.plot(distances)"
      ]
    },
    {
      "cell_type": "code",
      "execution_count": 9,
      "metadata": {},
      "outputs": [],
      "source": [
        "fig, ax = plt.subplots()\n",
        "ax.plot(distances)\n",
        "ax.set_title(\"Distance to the Nearest Point\")\n",
        "ax.set_ylabel(\"Distance\")\n",
        "ax.set_xlabel(\"Points\")\n",
        "fig.show()"
      ]
    },
    {
      "cell_type": "code",
      "execution_count": 10,
      "metadata": {
        "id": "3RUYNaj0vEid"
      },
      "outputs": [],
      "source": [
        "eps = 0.001\n",
        "min_samples = 15\n",
        "model = DBSCAN(eps=eps, min_samples=min_samples)\n",
        "model = model.fit(df.iloc[:, 3:7])"
      ]
    },
    {
      "cell_type": "code",
      "execution_count": 11,
      "metadata": {
        "id": "91w__D6Zwd-0"
      },
      "outputs": [],
      "source": [
        "train_clusters = df.assign(clusters=model.labels_)"
      ]
    },
    {
      "cell_type": "code",
      "execution_count": 13,
      "metadata": {
        "id": "JGQJJXtp1vRx"
      },
      "outputs": [],
      "source": [
        "grouped = train_clusters.groupby(by='clusters', as_index=True)\n",
        "grouped_size = grouped.size()\n",
        "grouped_mean = grouped.aggregate({'view_count':'mean', 'likes':'mean', 'dislikes':'mean', 'comment_count':'mean'})"
      ]
    },
    {
      "cell_type": "code",
      "execution_count": 14,
      "metadata": {
        "colab": {
          "base_uri": "https://localhost:8080/",
          "height": 315
        },
        "id": "taB9oRa43PDk",
        "outputId": "12cc871a-b4d4-4889-c00a-312df4159c8c"
      },
      "outputs": [
        {
          "data": {
            "text/plain": [
              "<AxesSubplot:title={'center':'Attribute Mean Values for Each Cluster'}, xlabel='clusters'>"
            ]
          },
          "execution_count": 14,
          "metadata": {},
          "output_type": "execute_result"
        }
      ],
      "source": [
        "grouped_mean.plot(kind='bar', title=\"Attribute Mean Values for Each Cluster\")"
      ]
    },
    {
      "cell_type": "code",
      "execution_count": 15,
      "metadata": {
        "colab": {
          "base_uri": "https://localhost:8080/",
          "height": 485
        },
        "id": "shC-eNeZ4MWQ",
        "outputId": "c720f00a-85a5-4f40-d9d2-fe5ad03d9aec"
      },
      "outputs": [
        {
          "data": {
            "text/plain": [
              "Text(0, 0.5, 'Clusters')"
            ]
          },
          "execution_count": 15,
          "metadata": {},
          "output_type": "execute_result"
        }
      ],
      "source": [
        "container = plt.barh(grouped_size.index, grouped_size, color=\"brown\")\n",
        "plt.bar_label(container)\n",
        "plt.title(\"Number of Videos in each Cluster\")\n",
        "plt.xlabel(\"Number of Videos\")\n",
        "plt.ylabel(\"Clusters\")"
      ]
    },
    {
      "cell_type": "code",
      "execution_count": 16,
      "metadata": {
        "id": "fY3H6nop7D7e"
      },
      "outputs": [],
      "source": [
        "us_categories = pd.read_json(r\"https://raw.githubusercontent.com/rizwankareem006/youtube_trending/main/Youtube%20Trending%20Dataset/US_category_id.json\")\n",
        "us_categories = pd.json_normalize(us_categories[\"items\"])\n",
        "us_categories.rename(columns={'snippet.title':'name'}, inplace=True)\n",
        "us_categories.drop(labels=['kind', 'etag', 'snippet.assignable', 'snippet.channelId'], axis=1, inplace=True)\n",
        "us_categories['id'] = us_categories['id'].astype(int)"
      ]
    },
    {
      "cell_type": "code",
      "execution_count": 17,
      "metadata": {
        "id": "2TumHzbX7Jdt"
      },
      "outputs": [],
      "source": [
        "cmap = plt.cm.tab10\n",
        "colors = cmap(np.linspace(0., 1., us_categories.shape[0]))\n",
        "colordict={}\n",
        "labels = us_categories['name']\n",
        "for l,c in zip(labels,colors):\n",
        "    #print(l,c)\n",
        "    colordict[l]=c"
      ]
    },
    {
      "cell_type": "code",
      "execution_count": 18,
      "metadata": {
        "id": "8EJM5-MJ72OW"
      },
      "outputs": [],
      "source": [
        "clustered_df = train_clusters"
      ]
    },
    {
      "cell_type": "code",
      "execution_count": 19,
      "metadata": {
        "colab": {
          "base_uri": "https://localhost:8080/",
          "height": 537
        },
        "id": "ZnquqqIF7NAd",
        "outputId": "b8ba70ba-8075-4266-8db0-4f6369c4868a"
      },
      "outputs": [],
      "source": [
        "for i in range(3):\n",
        "    fig, axs = plt.subplots(nrows=2, ncols=2)\n",
        "    cats = []\n",
        "    for j in range(2):\n",
        "        for k in range(2):\n",
        "            cluster_no = 4*i + 2*j + k\n",
        "            cluster = clustered_df[(clustered_df['clusters'] == cluster_no)]\n",
        "            grouped_cluster = cluster.groupby(by='categoryId', as_index=True)\n",
        "            labels = us_categories[us_categories['id'].isin(grouped_cluster.size().index)]['name']\n",
        "            pie_wedge_collection = axs[j, k].pie(grouped_cluster.size(), labels=labels, shadow=True, autopct=\"%1.1f%%\", pctdistance=0.6)\n",
        "            axs[j, k].set_title(\"Categories in Cluster {}\".format(cluster_no))\n",
        "            for pie_wedge in pie_wedge_collection[0]:\n",
        "                pie_wedge.set_edgecolor('white')\n",
        "                pie_wedge.set_facecolor(colordict[pie_wedge.get_label()])\n",
        "            cats.append(cluster_no)\n",
        "    fig.suptitle(\"Categories in Cluster {}, {}, {}, {}\".format(cats[0], cats[1], cats[2], cats[3]), fontsize=18)\n",
        "    fig.show()"
      ]
    },
    {
      "cell_type": "code",
      "execution_count": 22,
      "metadata": {
        "id": "zYsEgIZx7x1W"
      },
      "outputs": [],
      "source": [
        "fig, axs = plt.subplots(nrows=1, ncols=2)\n",
        "cats = []\n",
        "for k in range(12, 14):\n",
        "    cluster_no = k\n",
        "    cluster = clustered_df[(clustered_df['clusters'] == cluster_no)]\n",
        "    grouped_cluster = cluster.groupby(by='categoryId', as_index=True)\n",
        "    labels = us_categories[us_categories['id'].isin(grouped_cluster.size().index)]['name']\n",
        "    pie_wedge_collection = axs[k-12].pie(grouped_cluster.size(), labels=labels, shadow=True, autopct=\"%1.1f%%\", pctdistance=0.6)\n",
        "    axs[k-12].set_title(\"Categories in Cluster {}\".format(cluster_no))\n",
        "    for pie_wedge in pie_wedge_collection[0]:\n",
        "        pie_wedge.set_edgecolor('white')\n",
        "        pie_wedge.set_facecolor(colordict[pie_wedge.get_label()])\n",
        "    cats.append(cluster_no)\n",
        "fig.suptitle(\"Categories in Cluster {}, {}\".format(cats[0], cats[1]), fontsize=18)\n",
        "fig.show()"
      ]
    }
  ],
  "metadata": {
    "colab": {
      "name": "DBSCAN.ipynb",
      "provenance": []
    },
    "kernelspec": {
      "display_name": "Python 3",
      "name": "python3"
    },
    "language_info": {
      "codemirror_mode": {
        "name": "ipython",
        "version": 3
      },
      "file_extension": ".py",
      "mimetype": "text/x-python",
      "name": "python",
      "nbconvert_exporter": "python",
      "pygments_lexer": "ipython3",
      "version": "3.9.6"
    }
  },
  "nbformat": 4,
  "nbformat_minor": 0
}
